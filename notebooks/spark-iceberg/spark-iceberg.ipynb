{
 "cells": [
  {
   "cell_type": "code",
   "execution_count": 1,
   "id": "eb11ace0-6e1d-4ac6-bef1-d2a9ebd48a13",
   "metadata": {
    "scrolled": true
   },
   "outputs": [
    {
     "name": "stderr",
     "output_type": "stream",
     "text": [
      "25/10/01 15:15:59 WARN Utils: Your hostname, joaovfe resolves to a loopback address: 127.0.1.1; using 10.255.255.254 instead (on interface lo)\n",
      "25/10/01 15:15:59 WARN Utils: Set SPARK_LOCAL_IP if you need to bind to another address\n"
     ]
    },
    {
     "name": "stdout",
     "output_type": "stream",
     "text": [
      ":: loading settings :: url = jar:file:/root/projects/engenharia_de_dados/spark-delta-iceberg/.venv/lib/python3.11/site-packages/pyspark/jars/ivy-2.5.1.jar!/org/apache/ivy/core/settings/ivysettings.xml\n"
     ]
    },
    {
     "name": "stderr",
     "output_type": "stream",
     "text": [
      "Ivy Default Cache set to: /root/.ivy2/cache\n",
      "The jars for the packages stored in: /root/.ivy2/jars\n",
      "org.apache.iceberg#iceberg-spark-runtime-3.5_2.12 added as a dependency\n",
      ":: resolving dependencies :: org.apache.spark#spark-submit-parent-e6073a61-44df-4b88-aaf4-9e96d43f036f;1.0\n",
      "\tconfs: [default]\n",
      "\tfound org.apache.iceberg#iceberg-spark-runtime-3.5_2.12;1.6.1 in central\n",
      ":: resolution report :: resolve 144ms :: artifacts dl 4ms\n",
      "\t:: modules in use:\n",
      "\torg.apache.iceberg#iceberg-spark-runtime-3.5_2.12;1.6.1 from central in [default]\n",
      "\t---------------------------------------------------------------------\n",
      "\t|                  |            modules            ||   artifacts   |\n",
      "\t|       conf       | number| search|dwnlded|evicted|| number|dwnlded|\n",
      "\t---------------------------------------------------------------------\n",
      "\t|      default     |   1   |   0   |   0   |   0   ||   1   |   0   |\n",
      "\t---------------------------------------------------------------------\n",
      ":: retrieving :: org.apache.spark#spark-submit-parent-e6073a61-44df-4b88-aaf4-9e96d43f036f\n",
      "\tconfs: [default]\n",
      "\t0 artifacts copied, 1 already retrieved (0kB/12ms)\n",
      "25/10/01 15:16:00 WARN NativeCodeLoader: Unable to load native-hadoop library for your platform... using builtin-java classes where applicable\n",
      "Setting default log level to \"WARN\".\n",
      "To adjust logging level use sc.setLogLevel(newLevel). For SparkR, use setLogLevel(newLevel).\n"
     ]
    }
   ],
   "source": [
    "from pyspark.sql import SparkSession\n",
    "\n",
    "# Initialize Spark session with Iceberg configurations\n",
    "spark = SparkSession.builder \\\n",
    "  .appName(\"IcebergLocalDevelopment\") \\\n",
    "  .config('spark.jars.packages', 'org.apache.iceberg:iceberg-spark-runtime-3.5_2.12:1.6.1') \\\n",
    "  .config(\"spark.sql.extensions\", \"org.apache.iceberg.spark.extensions.IcebergSparkSessionExtensions\") \\\n",
    "  .config(\"spark.sql.catalog.local\", \"org.apache.iceberg.spark.SparkCatalog\") \\\n",
    "  .config(\"spark.sql.catalog.local.type\", \"hadoop\") \\\n",
    "  .config(\"spark.sql.catalog.local.warehouse\", \"spark-warehouse/iceberg\") \\\n",
    "  .getOrCreate()"
   ]
  },
  {
   "cell_type": "code",
   "execution_count": 2,
   "id": "2e852641-fdb8-49b3-9804-c0464ff1a887",
   "metadata": {},
   "outputs": [
    {
     "data": {
      "text/html": [
       "\n",
       "            <div>\n",
       "                <p><b>SparkSession - in-memory</b></p>\n",
       "                \n",
       "        <div>\n",
       "            <p><b>SparkContext</b></p>\n",
       "\n",
       "            <p><a href=\"http://10.255.255.254:4040\">Spark UI</a></p>\n",
       "\n",
       "            <dl>\n",
       "              <dt>Version</dt>\n",
       "                <dd><code>v3.5.3</code></dd>\n",
       "              <dt>Master</dt>\n",
       "                <dd><code>local[*]</code></dd>\n",
       "              <dt>AppName</dt>\n",
       "                <dd><code>IcebergLocalDevelopment</code></dd>\n",
       "            </dl>\n",
       "        </div>\n",
       "        \n",
       "            </div>\n",
       "        "
      ],
      "text/plain": [
       "<pyspark.sql.session.SparkSession at 0x743a9e254590>"
      ]
     },
     "execution_count": 2,
     "metadata": {},
     "output_type": "execute_result"
    }
   ],
   "source": [
    "spark"
   ]
  },
  {
   "cell_type": "code",
   "execution_count": 6,
   "id": "80039315-3a2f-4af3-883b-a2be04a0cee3",
   "metadata": {
    "scrolled": true
   },
   "outputs": [
    {
     "name": "stdout",
     "output_type": "stream",
     "text": [
      "+----------+-------+--------------------+---------------+---------------+------+\n",
      "|listing_id|host_id|           host_name|           city|  property_type| price|\n",
      "+----------+-------+--------------------+---------------+---------------+------+\n",
      "|     17878|  68997|            Matthias|     Copacabana|Entire home/apt| 254.0|\n",
      "|     25026| 102840|             Viviane|     Copacabana|Entire home/apt| 252.0|\n",
      "|     35764| 153691|Patricia Miranda ...|     Copacabana|Entire home/apt| 190.0|\n",
      "|     48305|  70933|             Goitaca|        Ipanema|Entire home/apt|2239.0|\n",
      "|     48901| 222884|              Marcio|     Copacabana|Entire home/apt| 743.0|\n",
      "|     49179| 224192|               David|     Copacabana|Entire home/apt| 189.0|\n",
      "|     50759| 233554|              Felipe|Barra da Tijuca|Entire home/apt|2800.0|\n",
      "|     51703| 238091|               Dalia|     Copacabana|Entire home/apt| 201.0|\n",
      "|     53533| 249439|      Sherri & Andre|            Joá|Entire home/apt|1467.0|\n",
      "|     64795|  93005|                NULL|        Ipanema|Entire home/apt| 676.0|\n",
      "|     66797| 328096|              Carlos|     Copacabana|Entire home/apt| 217.0|\n",
      "|     70080| 319672|             Valeria|        Ipanema|Entire home/apt| 425.0|\n",
      "|     70547| 357995|             Isabele|   Santa Teresa|   Private room| 173.0|\n",
      "|     75148| 241334|              Andrea|     Copacabana|Entire home/apt| 262.0|\n",
      "|     75504| 391712|           Alexandre|     Copacabana|Entire home/apt| 492.0|\n",
      "|     76245| 406651|               Diogo|     Copacabana|Entire home/apt|1111.0|\n",
      "|     76300| 406989|  Casa 48 Guesthouse|   Santa Teresa|   Private room| 112.0|\n",
      "|     77318| 110002|              Silvia|          Gávea|Entire home/apt|  NULL|\n",
      "|     86670| 474221|                June|         Leblon|Entire home/apt|  NULL|\n",
      "|     86978| 476838|             Antonio|    Jacarepaguá|   Private room| 553.0|\n",
      "+----------+-------+--------------------+---------------+---------------+------+\n",
      "only showing top 20 rows\n",
      "\n"
     ]
    }
   ],
   "source": [
    "df = spark.read.option(\"header\", True).csv(\"../../data/listings.csv\")\n",
    "\n",
    "df = df.selectExpr(\n",
    "    \"id as listing_id\",\n",
    "    \"host_id\",\n",
    "    \"host_name\",\n",
    "    \"neighbourhood as city\",\n",
    "    \"room_type as property_type\",\n",
    "    \"cast(price as double) as price\"\n",
    ")\n",
    "\n",
    "df.show()\n"
   ]
  },
  {
   "cell_type": "code",
   "execution_count": 7,
   "id": "69ac9b97-c051-4913-bcfc-42898cbfeb2c",
   "metadata": {},
   "outputs": [
    {
     "data": {
      "text/plain": [
       "DataFrame[]"
      ]
     },
     "execution_count": 7,
     "metadata": {},
     "output_type": "execute_result"
    }
   ],
   "source": [
    "spark.sql(\"\"\"\n",
    "CREATE TABLE local.db_listings (\n",
    "    listing_id STRING,\n",
    "    host_id STRING,\n",
    "    host_name STRING,\n",
    "    city STRING,\n",
    "    property_type STRING,\n",
    "    price DOUBLE\n",
    ") USING iceberg\n",
    "\"\"\")\n"
   ]
  },
  {
   "cell_type": "code",
   "execution_count": null,
   "id": "e788c591-72e1-4fcd-bdc9-32cf26c9b39e",
   "metadata": {},
   "outputs": [],
   "source": [
    "spark.sql(\"SELECT * FROM local.db_listings\").show()"
   ]
  },
  {
   "cell_type": "code",
   "execution_count": 8,
   "id": "189cf750-7348-42ea-a0d3-6923ff053430",
   "metadata": {},
   "outputs": [
    {
     "name": "stderr",
     "output_type": "stream",
     "text": [
      "                                                                                "
     ]
    },
    {
     "data": {
      "text/plain": [
       "DataFrame[]"
      ]
     },
     "execution_count": 8,
     "metadata": {},
     "output_type": "execute_result"
    }
   ],
   "source": [
    "df.createOrReplaceTempView(\"temp_listings\")\n",
    "\n",
    "spark.sql(\"\"\"\n",
    "INSERT INTO local.db_listings\n",
    "SELECT * FROM temp_listings\n",
    "\"\"\")"
   ]
  },
  {
   "cell_type": "code",
   "execution_count": 9,
   "id": "f83a52ad-0ec7-46f3-a8a5-c7463398b4d9",
   "metadata": {},
   "outputs": [
    {
     "name": "stdout",
     "output_type": "stream",
     "text": [
      "+----------+-------+--------------------+---------------+---------------+------+\n",
      "|listing_id|host_id|           host_name|           city|  property_type| price|\n",
      "+----------+-------+--------------------+---------------+---------------+------+\n",
      "|     17878|  68997|            Matthias|     Copacabana|Entire home/apt| 254.0|\n",
      "|     25026| 102840|             Viviane|     Copacabana|Entire home/apt| 252.0|\n",
      "|     35764| 153691|Patricia Miranda ...|     Copacabana|Entire home/apt| 190.0|\n",
      "|     48305|  70933|             Goitaca|        Ipanema|Entire home/apt|2239.0|\n",
      "|     48901| 222884|              Marcio|     Copacabana|Entire home/apt| 743.0|\n",
      "|     49179| 224192|               David|     Copacabana|Entire home/apt| 189.0|\n",
      "|     50759| 233554|              Felipe|Barra da Tijuca|Entire home/apt|2800.0|\n",
      "|     51703| 238091|               Dalia|     Copacabana|Entire home/apt| 201.0|\n",
      "|     53533| 249439|      Sherri & Andre|            Joá|Entire home/apt|1467.0|\n",
      "|     64795|  93005|                NULL|        Ipanema|Entire home/apt| 676.0|\n",
      "|     66797| 328096|              Carlos|     Copacabana|Entire home/apt| 217.0|\n",
      "|     70080| 319672|             Valeria|        Ipanema|Entire home/apt| 425.0|\n",
      "|     70547| 357995|             Isabele|   Santa Teresa|   Private room| 173.0|\n",
      "|     75148| 241334|              Andrea|     Copacabana|Entire home/apt| 262.0|\n",
      "|     75504| 391712|           Alexandre|     Copacabana|Entire home/apt| 492.0|\n",
      "|     76245| 406651|               Diogo|     Copacabana|Entire home/apt|1111.0|\n",
      "|     76300| 406989|  Casa 48 Guesthouse|   Santa Teresa|   Private room| 112.0|\n",
      "|     77318| 110002|              Silvia|          Gávea|Entire home/apt|  NULL|\n",
      "|     86670| 474221|                June|         Leblon|Entire home/apt|  NULL|\n",
      "|     86978| 476838|             Antonio|    Jacarepaguá|   Private room| 553.0|\n",
      "+----------+-------+--------------------+---------------+---------------+------+\n",
      "only showing top 20 rows\n",
      "\n"
     ]
    }
   ],
   "source": [
    "spark.sql(\"SELECT * FROM local.db_listings\").show()"
   ]
  },
  {
   "cell_type": "code",
   "execution_count": 10,
   "id": "9023683c-03e9-4367-aa03-1ffd7ec1cafe",
   "metadata": {},
   "outputs": [
    {
     "name": "stdout",
     "output_type": "stream",
     "text": [
      "+----------+-------+--------------------+----------+---------------+-----+\n",
      "|listing_id|host_id|           host_name|      city|  property_type|price|\n",
      "+----------+-------+--------------------+----------+---------------+-----+\n",
      "|     35764| 153691|Patricia Miranda ...|Copacabana|Entire home/apt|190.0|\n",
      "+----------+-------+--------------------+----------+---------------+-----+\n",
      "\n"
     ]
    }
   ],
   "source": [
    "spark.sql(\"SELECT * FROM local.db_listings WHERE listing_id = '35764'\").show()"
   ]
  },
  {
   "cell_type": "code",
   "execution_count": 11,
   "id": "6a36fbf7-b2de-47cd-bd94-d472bd9a26c9",
   "metadata": {},
   "outputs": [
    {
     "data": {
      "text/plain": [
       "DataFrame[]"
      ]
     },
     "execution_count": 11,
     "metadata": {},
     "output_type": "execute_result"
    }
   ],
   "source": [
    "spark.sql(\"\"\"\n",
    "DELETE FROM local.db_listings\n",
    "WHERE listing_id = '35764'\n",
    "\"\"\")"
   ]
  },
  {
   "cell_type": "code",
   "execution_count": 12,
   "id": "5108cec2-b5e4-4882-a4e2-76ec8723ff45",
   "metadata": {},
   "outputs": [
    {
     "name": "stdout",
     "output_type": "stream",
     "text": [
      "+----------+-------+---------+----+-------------+-----+\n",
      "|listing_id|host_id|host_name|city|property_type|price|\n",
      "+----------+-------+---------+----+-------------+-----+\n",
      "+----------+-------+---------+----+-------------+-----+\n",
      "\n"
     ]
    }
   ],
   "source": [
    "spark.sql(\"SELECT * FROM local.db_listings WHERE listing_id = '35764'\").show()"
   ]
  },
  {
   "cell_type": "code",
   "execution_count": 13,
   "id": "6d0ded2c-0818-468e-a1c2-71521890c63e",
   "metadata": {},
   "outputs": [
    {
     "name": "stdout",
     "output_type": "stream",
     "text": [
      "+----------+-------+---------+----------+---------------+-----+\n",
      "|listing_id|host_id|host_name|      city|  property_type|price|\n",
      "+----------+-------+---------+----------+---------------+-----+\n",
      "|     17878|  68997| Matthias|Copacabana|Entire home/apt|254.0|\n",
      "+----------+-------+---------+----------+---------------+-----+\n",
      "\n"
     ]
    }
   ],
   "source": [
    "spark.sql(\"SELECT * FROM local.db_listings WHERE listing_id = '17878'\").show()"
   ]
  },
  {
   "cell_type": "code",
   "execution_count": 14,
   "id": "210b973d-3f24-4a7f-be65-ccb73fbd0a93",
   "metadata": {},
   "outputs": [
    {
     "data": {
      "text/plain": [
       "DataFrame[]"
      ]
     },
     "execution_count": 14,
     "metadata": {},
     "output_type": "execute_result"
    }
   ],
   "source": [
    "spark.sql(\"\"\"\n",
    "UPDATE local.db_listings\n",
    "SET price = 500\n",
    "WHERE listing_id = '17878'\n",
    "\"\"\")"
   ]
  },
  {
   "cell_type": "code",
   "execution_count": 15,
   "id": "7693fa81-e75e-4982-bf84-9daacc3b8139",
   "metadata": {},
   "outputs": [
    {
     "name": "stdout",
     "output_type": "stream",
     "text": [
      "+----------+-------+---------+----------+---------------+-----+\n",
      "|listing_id|host_id|host_name|      city|  property_type|price|\n",
      "+----------+-------+---------+----------+---------------+-----+\n",
      "|     17878|  68997| Matthias|Copacabana|Entire home/apt|500.0|\n",
      "+----------+-------+---------+----------+---------------+-----+\n",
      "\n"
     ]
    }
   ],
   "source": [
    "spark.sql(\"SELECT * FROM local.db_listings WHERE listing_id = '17878'\").show()"
   ]
  },
  {
   "cell_type": "code",
   "execution_count": 16,
   "id": "1f861081-eca7-4b54-bb34-a58be4c4bfe2",
   "metadata": {},
   "outputs": [
    {
     "data": {
      "text/plain": [
       "DataFrame[]"
      ]
     },
     "execution_count": 16,
     "metadata": {},
     "output_type": "execute_result"
    }
   ],
   "source": [
    "spark.sql(\"DROP TABLE local.db_listings\")"
   ]
  }
 ],
 "metadata": {
  "kernelspec": {
   "display_name": "Python 3 (ipykernel)",
   "language": "python",
   "name": "python3"
  },
  "language_info": {
   "codemirror_mode": {
    "name": "ipython",
    "version": 3
   },
   "file_extension": ".py",
   "mimetype": "text/x-python",
   "name": "python",
   "nbconvert_exporter": "python",
   "pygments_lexer": "ipython3",
   "version": "3.11.13"
  }
 },
 "nbformat": 4,
 "nbformat_minor": 5
}

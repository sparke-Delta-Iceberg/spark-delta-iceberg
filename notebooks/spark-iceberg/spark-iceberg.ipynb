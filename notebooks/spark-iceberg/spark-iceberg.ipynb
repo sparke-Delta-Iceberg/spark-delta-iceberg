{
 "cells": [
  {
   "cell_type": "code",
   "execution_count": 9,
   "id": "ef45d4b2-4c5a-4cc7-8475-2ce9d26360d3",
   "metadata": {},
   "outputs": [],
   "source": [
    "from pyspark.sql import SparkSession\n",
    "\n",
    "# Initialize Spark session with Iceberg configurations\n",
    "spark = SparkSession.builder \\\n",
    "  .appName(\"IcebergLocalDevelopment\") \\\n",
    "  .config('spark.jars.packages', 'org.apache.iceberg:iceberg-spark-runtime-3.5_2.12:1.6.1') \\\n",
    "  .config(\"spark.sql.extensions\", \"org.apache.iceberg.spark.extensions.IcebergSparkSessionExtensions\") \\\n",
    "  .config(\"spark.sql.catalog.local\", \"org.apache.iceberg.spark.SparkCatalog\") \\\n",
    "  .config(\"spark.sql.catalog.local.type\", \"hadoop\") \\\n",
    "  .config(\"spark.sql.catalog.local.warehouse\", \"spark-warehouse/iceberg\") \\\n",
    "  .getOrCreate()"
   ]
  },
  {
   "cell_type": "code",
   "execution_count": 10,
   "id": "2e852641-fdb8-49b3-9804-c0464ff1a887",
   "metadata": {},
   "outputs": [
    {
     "data": {
      "text/html": [
       "\n",
       "            <div>\n",
       "                <p><b>SparkSession - in-memory</b></p>\n",
       "                \n",
       "        <div>\n",
       "            <p><b>SparkContext</b></p>\n",
       "\n",
       "            <p><a href=\"http://172.29.202.10:4040\">Spark UI</a></p>\n",
       "\n",
       "            <dl>\n",
       "              <dt>Version</dt>\n",
       "                <dd><code>v3.5.3</code></dd>\n",
       "              <dt>Master</dt>\n",
       "                <dd><code>local[*]</code></dd>\n",
       "              <dt>AppName</dt>\n",
       "                <dd><code>IcebergLocalDevelopment</code></dd>\n",
       "            </dl>\n",
       "        </div>\n",
       "        \n",
       "            </div>\n",
       "        "
      ],
      "text/plain": [
       "<pyspark.sql.session.SparkSession at 0x7d403ef25f50>"
      ]
     },
     "execution_count": 10,
     "metadata": {},
     "output_type": "execute_result"
    }
   ],
   "source": [
    "spark"
   ]
  },
  {
   "cell_type": "code",
   "execution_count": 11,
   "id": "80039315-3a2f-4af3-883b-a2be04a0cee3",
   "metadata": {
    "scrolled": true
   },
   "outputs": [
    {
     "name": "stdout",
     "output_type": "stream",
     "text": [
      "+----------+-------+--------------------+---------------+---------------+------+\n",
      "|listing_id|host_id|           host_name|           city|  property_type| price|\n",
      "+----------+-------+--------------------+---------------+---------------+------+\n",
      "|     17878|  68997|            Matthias|     Copacabana|Entire home/apt| 254.0|\n",
      "|     25026| 102840|             Viviane|     Copacabana|Entire home/apt| 252.0|\n",
      "|     35764| 153691|Patricia Miranda ...|     Copacabana|Entire home/apt| 190.0|\n",
      "|     48305|  70933|             Goitaca|        Ipanema|Entire home/apt|2239.0|\n",
      "|     48901| 222884|              Marcio|     Copacabana|Entire home/apt| 743.0|\n",
      "|     49179| 224192|               David|     Copacabana|Entire home/apt| 189.0|\n",
      "|     50759| 233554|              Felipe|Barra da Tijuca|Entire home/apt|2800.0|\n",
      "|     51703| 238091|               Dalia|     Copacabana|Entire home/apt| 201.0|\n",
      "|     53533| 249439|      Sherri & Andre|            Joá|Entire home/apt|1467.0|\n",
      "|     64795|  93005|                NULL|        Ipanema|Entire home/apt| 676.0|\n",
      "|     66797| 328096|              Carlos|     Copacabana|Entire home/apt| 217.0|\n",
      "|     70080| 319672|             Valeria|        Ipanema|Entire home/apt| 425.0|\n",
      "|     70547| 357995|             Isabele|   Santa Teresa|   Private room| 173.0|\n",
      "|     75148| 241334|              Andrea|     Copacabana|Entire home/apt| 262.0|\n",
      "|     75504| 391712|           Alexandre|     Copacabana|Entire home/apt| 492.0|\n",
      "|     76245| 406651|               Diogo|     Copacabana|Entire home/apt|1111.0|\n",
      "|     76300| 406989|  Casa 48 Guesthouse|   Santa Teresa|   Private room| 112.0|\n",
      "|     77318| 110002|              Silvia|          Gávea|Entire home/apt|  NULL|\n",
      "|     86670| 474221|                June|         Leblon|Entire home/apt|  NULL|\n",
      "|     86978| 476838|             Antonio|    Jacarepaguá|   Private room| 553.0|\n",
      "+----------+-------+--------------------+---------------+---------------+------+\n",
      "only showing top 20 rows\n",
      "\n"
     ]
    }
   ],
   "source": [
    "df = spark.read.option(\"header\", True).csv(\"../../data/listings.csv\")\n",
    "\n",
    "df = df.selectExpr(\n",
    "    \"id as listing_id\",\n",
    "    \"host_id\",\n",
    "    \"host_name\",\n",
    "    \"neighbourhood as city\",\n",
    "    \"room_type as property_type\",\n",
    "    \"cast(price as double) as price\"\n",
    ")\n",
    "\n",
    "df.show()\n"
   ]
  },
  {
   "cell_type": "code",
   "execution_count": 12,
   "id": "69ac9b97-c051-4913-bcfc-42898cbfeb2c",
   "metadata": {},
   "outputs": [
    {
     "ename": "AnalysisException",
     "evalue": "[TABLE_OR_VIEW_ALREADY_EXISTS] Cannot create table or view `db_listings` because it already exists.\nChoose a different name, drop or replace the existing object, or add the IF NOT EXISTS clause to tolerate pre-existing objects.",
     "output_type": "error",
     "traceback": [
      "\u001b[31m---------------------------------------------------------------------------\u001b[39m",
      "\u001b[31mAnalysisException\u001b[39m                         Traceback (most recent call last)",
      "\u001b[36mCell\u001b[39m\u001b[36m \u001b[39m\u001b[32mIn[12]\u001b[39m\u001b[32m, line 1\u001b[39m\n\u001b[32m----> \u001b[39m\u001b[32m1\u001b[39m \u001b[43mspark\u001b[49m\u001b[43m.\u001b[49m\u001b[43msql\u001b[49m\u001b[43m(\u001b[49m\u001b[33;43m\"\"\"\u001b[39;49m\n\u001b[32m      2\u001b[39m \u001b[33;43mCREATE TABLE local.db_listings (\u001b[39;49m\n\u001b[32m      3\u001b[39m \u001b[33;43m    listing_id STRING,\u001b[39;49m\n\u001b[32m      4\u001b[39m \u001b[33;43m    host_id STRING,\u001b[39;49m\n\u001b[32m      5\u001b[39m \u001b[33;43m    host_name STRING,\u001b[39;49m\n\u001b[32m      6\u001b[39m \u001b[33;43m    city STRING,\u001b[39;49m\n\u001b[32m      7\u001b[39m \u001b[33;43m    property_type STRING,\u001b[39;49m\n\u001b[32m      8\u001b[39m \u001b[33;43m    price DOUBLE\u001b[39;49m\n\u001b[32m      9\u001b[39m \u001b[33;43m) USING iceberg\u001b[39;49m\n\u001b[32m     10\u001b[39m \u001b[33;43m\"\"\"\u001b[39;49m\u001b[43m)\u001b[49m\n",
      "\u001b[36mFile \u001b[39m\u001b[32m~/projects/eng-dados/spark-delta-iceberg/.venv/lib/python3.11/site-packages/pyspark/sql/session.py:1631\u001b[39m, in \u001b[36mSparkSession.sql\u001b[39m\u001b[34m(self, sqlQuery, args, **kwargs)\u001b[39m\n\u001b[32m   1627\u001b[39m         \u001b[38;5;28;01massert\u001b[39;00m \u001b[38;5;28mself\u001b[39m._jvm \u001b[38;5;129;01mis\u001b[39;00m \u001b[38;5;129;01mnot\u001b[39;00m \u001b[38;5;28;01mNone\u001b[39;00m\n\u001b[32m   1628\u001b[39m         litArgs = \u001b[38;5;28mself\u001b[39m._jvm.PythonUtils.toArray(\n\u001b[32m   1629\u001b[39m             [_to_java_column(lit(v)) \u001b[38;5;28;01mfor\u001b[39;00m v \u001b[38;5;129;01min\u001b[39;00m (args \u001b[38;5;129;01mor\u001b[39;00m [])]\n\u001b[32m   1630\u001b[39m         )\n\u001b[32m-> \u001b[39m\u001b[32m1631\u001b[39m     \u001b[38;5;28;01mreturn\u001b[39;00m DataFrame(\u001b[38;5;28;43mself\u001b[39;49m\u001b[43m.\u001b[49m\u001b[43m_jsparkSession\u001b[49m\u001b[43m.\u001b[49m\u001b[43msql\u001b[49m\u001b[43m(\u001b[49m\u001b[43msqlQuery\u001b[49m\u001b[43m,\u001b[49m\u001b[43m \u001b[49m\u001b[43mlitArgs\u001b[49m\u001b[43m)\u001b[49m, \u001b[38;5;28mself\u001b[39m)\n\u001b[32m   1632\u001b[39m \u001b[38;5;28;01mfinally\u001b[39;00m:\n\u001b[32m   1633\u001b[39m     \u001b[38;5;28;01mif\u001b[39;00m \u001b[38;5;28mlen\u001b[39m(kwargs) > \u001b[32m0\u001b[39m:\n",
      "\u001b[36mFile \u001b[39m\u001b[32m~/projects/eng-dados/spark-delta-iceberg/.venv/lib/python3.11/site-packages/py4j/java_gateway.py:1322\u001b[39m, in \u001b[36mJavaMember.__call__\u001b[39m\u001b[34m(self, *args)\u001b[39m\n\u001b[32m   1316\u001b[39m command = proto.CALL_COMMAND_NAME +\\\n\u001b[32m   1317\u001b[39m     \u001b[38;5;28mself\u001b[39m.command_header +\\\n\u001b[32m   1318\u001b[39m     args_command +\\\n\u001b[32m   1319\u001b[39m     proto.END_COMMAND_PART\n\u001b[32m   1321\u001b[39m answer = \u001b[38;5;28mself\u001b[39m.gateway_client.send_command(command)\n\u001b[32m-> \u001b[39m\u001b[32m1322\u001b[39m return_value = \u001b[43mget_return_value\u001b[49m\u001b[43m(\u001b[49m\n\u001b[32m   1323\u001b[39m \u001b[43m    \u001b[49m\u001b[43manswer\u001b[49m\u001b[43m,\u001b[49m\u001b[43m \u001b[49m\u001b[38;5;28;43mself\u001b[39;49m\u001b[43m.\u001b[49m\u001b[43mgateway_client\u001b[49m\u001b[43m,\u001b[49m\u001b[43m \u001b[49m\u001b[38;5;28;43mself\u001b[39;49m\u001b[43m.\u001b[49m\u001b[43mtarget_id\u001b[49m\u001b[43m,\u001b[49m\u001b[43m \u001b[49m\u001b[38;5;28;43mself\u001b[39;49m\u001b[43m.\u001b[49m\u001b[43mname\u001b[49m\u001b[43m)\u001b[49m\n\u001b[32m   1325\u001b[39m \u001b[38;5;28;01mfor\u001b[39;00m temp_arg \u001b[38;5;129;01min\u001b[39;00m temp_args:\n\u001b[32m   1326\u001b[39m     \u001b[38;5;28;01mif\u001b[39;00m \u001b[38;5;28mhasattr\u001b[39m(temp_arg, \u001b[33m\"\u001b[39m\u001b[33m_detach\u001b[39m\u001b[33m\"\u001b[39m):\n",
      "\u001b[36mFile \u001b[39m\u001b[32m~/projects/eng-dados/spark-delta-iceberg/.venv/lib/python3.11/site-packages/pyspark/errors/exceptions/captured.py:185\u001b[39m, in \u001b[36mcapture_sql_exception.<locals>.deco\u001b[39m\u001b[34m(*a, **kw)\u001b[39m\n\u001b[32m    181\u001b[39m converted = convert_exception(e.java_exception)\n\u001b[32m    182\u001b[39m \u001b[38;5;28;01mif\u001b[39;00m \u001b[38;5;129;01mnot\u001b[39;00m \u001b[38;5;28misinstance\u001b[39m(converted, UnknownException):\n\u001b[32m    183\u001b[39m     \u001b[38;5;66;03m# Hide where the exception came from that shows a non-Pythonic\u001b[39;00m\n\u001b[32m    184\u001b[39m     \u001b[38;5;66;03m# JVM exception message.\u001b[39;00m\n\u001b[32m--> \u001b[39m\u001b[32m185\u001b[39m     \u001b[38;5;28;01mraise\u001b[39;00m converted \u001b[38;5;28;01mfrom\u001b[39;00m\u001b[38;5;250m \u001b[39m\u001b[38;5;28;01mNone\u001b[39;00m\n\u001b[32m    186\u001b[39m \u001b[38;5;28;01melse\u001b[39;00m:\n\u001b[32m    187\u001b[39m     \u001b[38;5;28;01mraise\u001b[39;00m\n",
      "\u001b[31mAnalysisException\u001b[39m: [TABLE_OR_VIEW_ALREADY_EXISTS] Cannot create table or view `db_listings` because it already exists.\nChoose a different name, drop or replace the existing object, or add the IF NOT EXISTS clause to tolerate pre-existing objects."
     ]
    }
   ],
   "source": [
    "spark.sql(\"\"\"\n",
    "CREATE TABLE local.db_listings (\n",
    "    listing_id STRING,\n",
    "    host_id STRING,\n",
    "    host_name STRING,\n",
    "    city STRING,\n",
    "    property_type STRING,\n",
    "    price DOUBLE\n",
    ") USING iceberg\n",
    "\"\"\")\n"
   ]
  },
  {
   "cell_type": "code",
   "execution_count": 17,
   "id": "e788c591-72e1-4fcd-bdc9-32cf26c9b39e",
   "metadata": {},
   "outputs": [
    {
     "name": "stdout",
     "output_type": "stream",
     "text": [
      "+----------+-------+--------------------+---------------+---------------+------+\n",
      "|listing_id|host_id|           host_name|           city|  property_type| price|\n",
      "+----------+-------+--------------------+---------------+---------------+------+\n",
      "|     17878|  68997|            Matthias|     Copacabana|Entire home/apt| 254.0|\n",
      "|     25026| 102840|             Viviane|     Copacabana|Entire home/apt| 252.0|\n",
      "|     35764| 153691|Patricia Miranda ...|     Copacabana|Entire home/apt| 190.0|\n",
      "|     48305|  70933|             Goitaca|        Ipanema|Entire home/apt|2239.0|\n",
      "|     48901| 222884|              Marcio|     Copacabana|Entire home/apt| 743.0|\n",
      "|     49179| 224192|               David|     Copacabana|Entire home/apt| 189.0|\n",
      "|     50759| 233554|              Felipe|Barra da Tijuca|Entire home/apt|2800.0|\n",
      "|     51703| 238091|               Dalia|     Copacabana|Entire home/apt| 201.0|\n",
      "|     53533| 249439|      Sherri & Andre|            Joá|Entire home/apt|1467.0|\n",
      "|     64795|  93005|                NULL|        Ipanema|Entire home/apt| 676.0|\n",
      "|     66797| 328096|              Carlos|     Copacabana|Entire home/apt| 217.0|\n",
      "|     70080| 319672|             Valeria|        Ipanema|Entire home/apt| 425.0|\n",
      "|     70547| 357995|             Isabele|   Santa Teresa|   Private room| 173.0|\n",
      "|     75148| 241334|              Andrea|     Copacabana|Entire home/apt| 262.0|\n",
      "|     75504| 391712|           Alexandre|     Copacabana|Entire home/apt| 492.0|\n",
      "|     76245| 406651|               Diogo|     Copacabana|Entire home/apt|1111.0|\n",
      "|     76300| 406989|  Casa 48 Guesthouse|   Santa Teresa|   Private room| 112.0|\n",
      "|     77318| 110002|              Silvia|          Gávea|Entire home/apt|  NULL|\n",
      "|     86670| 474221|                June|         Leblon|Entire home/apt|  NULL|\n",
      "|     86978| 476838|             Antonio|    Jacarepaguá|   Private room| 553.0|\n",
      "+----------+-------+--------------------+---------------+---------------+------+\n",
      "only showing top 20 rows\n",
      "\n"
     ]
    }
   ],
   "source": [
    "spark.sql(\"SELECT * FROM local.db_listings\").show()"
   ]
  },
  {
   "cell_type": "code",
   "execution_count": 18,
   "id": "189cf750-7348-42ea-a0d3-6923ff053430",
   "metadata": {},
   "outputs": [
    {
     "data": {
      "text/plain": [
       "DataFrame[]"
      ]
     },
     "execution_count": 18,
     "metadata": {},
     "output_type": "execute_result"
    }
   ],
   "source": [
    "spark.sql(\n",
    "    \"\"\"\n",
    "    alter table local.db_listings add column email STRING, phone INT\n",
    "    \"\"\"\n",
    ")"
   ]
  },
  {
   "cell_type": "code",
   "execution_count": 19,
   "id": "f83a52ad-0ec7-46f3-a8a5-c7463398b4d9",
   "metadata": {},
   "outputs": [
    {
     "name": "stdout",
     "output_type": "stream",
     "text": [
      "+----------+-------+--------------------+---------------+---------------+------+-----+-----+\n",
      "|listing_id|host_id|           host_name|           city|  property_type| price|email|phone|\n",
      "+----------+-------+--------------------+---------------+---------------+------+-----+-----+\n",
      "|     17878|  68997|            Matthias|     Copacabana|Entire home/apt| 254.0| NULL| NULL|\n",
      "|     25026| 102840|             Viviane|     Copacabana|Entire home/apt| 252.0| NULL| NULL|\n",
      "|     35764| 153691|Patricia Miranda ...|     Copacabana|Entire home/apt| 190.0| NULL| NULL|\n",
      "|     48305|  70933|             Goitaca|        Ipanema|Entire home/apt|2239.0| NULL| NULL|\n",
      "|     48901| 222884|              Marcio|     Copacabana|Entire home/apt| 743.0| NULL| NULL|\n",
      "|     49179| 224192|               David|     Copacabana|Entire home/apt| 189.0| NULL| NULL|\n",
      "|     50759| 233554|              Felipe|Barra da Tijuca|Entire home/apt|2800.0| NULL| NULL|\n",
      "|     51703| 238091|               Dalia|     Copacabana|Entire home/apt| 201.0| NULL| NULL|\n",
      "|     53533| 249439|      Sherri & Andre|            Joá|Entire home/apt|1467.0| NULL| NULL|\n",
      "|     64795|  93005|                NULL|        Ipanema|Entire home/apt| 676.0| NULL| NULL|\n",
      "|     66797| 328096|              Carlos|     Copacabana|Entire home/apt| 217.0| NULL| NULL|\n",
      "|     70080| 319672|             Valeria|        Ipanema|Entire home/apt| 425.0| NULL| NULL|\n",
      "|     70547| 357995|             Isabele|   Santa Teresa|   Private room| 173.0| NULL| NULL|\n",
      "|     75148| 241334|              Andrea|     Copacabana|Entire home/apt| 262.0| NULL| NULL|\n",
      "|     75504| 391712|           Alexandre|     Copacabana|Entire home/apt| 492.0| NULL| NULL|\n",
      "|     76245| 406651|               Diogo|     Copacabana|Entire home/apt|1111.0| NULL| NULL|\n",
      "|     76300| 406989|  Casa 48 Guesthouse|   Santa Teresa|   Private room| 112.0| NULL| NULL|\n",
      "|     77318| 110002|              Silvia|          Gávea|Entire home/apt|  NULL| NULL| NULL|\n",
      "|     86670| 474221|                June|         Leblon|Entire home/apt|  NULL| NULL| NULL|\n",
      "|     86978| 476838|             Antonio|    Jacarepaguá|   Private room| 553.0| NULL| NULL|\n",
      "+----------+-------+--------------------+---------------+---------------+------+-----+-----+\n",
      "only showing top 20 rows\n",
      "\n"
     ]
    }
   ],
   "source": [
    "spark.sql(\"SELECT * FROM local.db_listings\").show()"
   ]
  },
  {
   "cell_type": "code",
   "execution_count": 22,
   "id": "420c0a52-9e25-4254-8c11-ddbe8479275d",
   "metadata": {},
   "outputs": [
    {
     "data": {
      "text/plain": [
       "DataFrame[]"
      ]
     },
     "execution_count": 22,
     "metadata": {},
     "output_type": "execute_result"
    }
   ],
   "source": [
    "spark.sql('update local.db_listings set email = \"goiaba@email.com\", phone = 48954652 where listing_id = 25026   ')"
   ]
  },
  {
   "cell_type": "code",
   "execution_count": 20,
   "id": "e5b0118c-4a24-4c05-a2a4-8659feb3daa2",
   "metadata": {},
   "outputs": [
    {
     "data": {
      "text/plain": [
       "DataFrame[]"
      ]
     },
     "execution_count": 20,
     "metadata": {},
     "output_type": "execute_result"
    }
   ],
   "source": [
    "spark.sql('update local.db_listings set email = \"fulano123@email.com\", phone = 8726512 where listing_id = 35764')"
   ]
  },
  {
   "cell_type": "code",
   "execution_count": 24,
   "id": "250c5751-c907-4a9f-a2d1-a4d6fe10dd72",
   "metadata": {},
   "outputs": [
    {
     "name": "stdout",
     "output_type": "stream",
     "text": [
      "+----------+-------+--------------------+----------+---------------+-----+-------------------+-------+\n",
      "|listing_id|host_id|           host_name|      city|  property_type|price|              email|  phone|\n",
      "+----------+-------+--------------------+----------+---------------+-----+-------------------+-------+\n",
      "|     35764| 153691|Patricia Miranda ...|Copacabana|Entire home/apt|190.0|fulano123@email.com|8726512|\n",
      "|     35764| 153691|Patricia Miranda ...|Copacabana|Entire home/apt|190.0|fulano123@email.com|8726512|\n",
      "+----------+-------+--------------------+----------+---------------+-----+-------------------+-------+\n",
      "\n"
     ]
    }
   ],
   "source": [
    "spark.sql(\"SELECT * FROM local.db_listings where listing_id = 35764\").show()"
   ]
  },
  {
   "cell_type": "code",
   "execution_count": 25,
   "id": "9023683c-03e9-4367-aa03-1ffd7ec1cafe",
   "metadata": {},
   "outputs": [
    {
     "name": "stdout",
     "output_type": "stream",
     "text": [
      "+----------+-------+--------------------+----------+---------------+-----+-------------------+-------+\n",
      "|listing_id|host_id|           host_name|      city|  property_type|price|              email|  phone|\n",
      "+----------+-------+--------------------+----------+---------------+-----+-------------------+-------+\n",
      "|     35764| 153691|Patricia Miranda ...|Copacabana|Entire home/apt|190.0|fulano123@email.com|8726512|\n",
      "|     35764| 153691|Patricia Miranda ...|Copacabana|Entire home/apt|190.0|fulano123@email.com|8726512|\n",
      "+----------+-------+--------------------+----------+---------------+-----+-------------------+-------+\n",
      "\n"
     ]
    }
   ],
   "source": [
    "spark.sql(\"SELECT * FROM local.db_listings WHERE listing_id = '35764'\").show()"
   ]
  },
  {
   "cell_type": "code",
   "execution_count": 11,
   "id": "6a36fbf7-b2de-47cd-bd94-d472bd9a26c9",
   "metadata": {},
   "outputs": [
    {
     "data": {
      "text/plain": [
       "DataFrame[]"
      ]
     },
     "execution_count": 11,
     "metadata": {},
     "output_type": "execute_result"
    }
   ],
   "source": [
    "spark.sql(\"\"\"\n",
    "DELETE FROM local.db_listings\n",
    "WHERE listing_id = '35764'\n",
    "\"\"\")"
   ]
  },
  {
   "cell_type": "code",
   "execution_count": 12,
   "id": "5108cec2-b5e4-4882-a4e2-76ec8723ff45",
   "metadata": {},
   "outputs": [
    {
     "name": "stdout",
     "output_type": "stream",
     "text": [
      "+----------+-------+---------+----+-------------+-----+\n",
      "|listing_id|host_id|host_name|city|property_type|price|\n",
      "+----------+-------+---------+----+-------------+-----+\n",
      "+----------+-------+---------+----+-------------+-----+\n",
      "\n"
     ]
    }
   ],
   "source": [
    "spark.sql(\"SELECT * FROM local.db_listings WHERE listing_id = '35764'\").show()"
   ]
  },
  {
   "cell_type": "code",
   "execution_count": 13,
   "id": "6d0ded2c-0818-468e-a1c2-71521890c63e",
   "metadata": {},
   "outputs": [
    {
     "name": "stdout",
     "output_type": "stream",
     "text": [
      "+----------+-------+---------+----------+---------------+-----+\n",
      "|listing_id|host_id|host_name|      city|  property_type|price|\n",
      "+----------+-------+---------+----------+---------------+-----+\n",
      "|     17878|  68997| Matthias|Copacabana|Entire home/apt|254.0|\n",
      "+----------+-------+---------+----------+---------------+-----+\n",
      "\n"
     ]
    }
   ],
   "source": [
    "spark.sql(\"SELECT * FROM local.db_listings WHERE listing_id = '17878'\").show()"
   ]
  },
  {
   "cell_type": "code",
   "execution_count": 14,
   "id": "210b973d-3f24-4a7f-be65-ccb73fbd0a93",
   "metadata": {},
   "outputs": [
    {
     "data": {
      "text/plain": [
       "DataFrame[]"
      ]
     },
     "execution_count": 14,
     "metadata": {},
     "output_type": "execute_result"
    }
   ],
   "source": [
    "spark.sql(\"\"\"\n",
    "UPDATE local.db_listings\n",
    "SET price = 500\n",
    "WHERE listing_id = '17878'\n",
    "\"\"\")"
   ]
  },
  {
   "cell_type": "code",
   "execution_count": 15,
   "id": "7693fa81-e75e-4982-bf84-9daacc3b8139",
   "metadata": {},
   "outputs": [
    {
     "name": "stdout",
     "output_type": "stream",
     "text": [
      "+----------+-------+---------+----------+---------------+-----+\n",
      "|listing_id|host_id|host_name|      city|  property_type|price|\n",
      "+----------+-------+---------+----------+---------------+-----+\n",
      "|     17878|  68997| Matthias|Copacabana|Entire home/apt|500.0|\n",
      "+----------+-------+---------+----------+---------------+-----+\n",
      "\n"
     ]
    }
   ],
   "source": [
    "spark.sql(\"SELECT * FROM local.db_listings WHERE listing_id = '17878'\").show()"
   ]
  },
  {
   "cell_type": "code",
   "execution_count": 16,
   "id": "1f861081-eca7-4b54-bb34-a58be4c4bfe2",
   "metadata": {},
   "outputs": [
    {
     "data": {
      "text/plain": [
       "DataFrame[]"
      ]
     },
     "execution_count": 16,
     "metadata": {},
     "output_type": "execute_result"
    }
   ],
   "source": [
    "spark.sql(\"DROP TABLE local.db_listings\")"
   ]
  }
 ],
 "metadata": {
  "kernelspec": {
   "display_name": "Python 3 (ipykernel)",
   "language": "python",
   "name": "python3"
  },
  "language_info": {
   "codemirror_mode": {
    "name": "ipython",
    "version": 3
   },
   "file_extension": ".py",
   "mimetype": "text/x-python",
   "name": "python",
   "nbconvert_exporter": "python",
   "pygments_lexer": "ipython3",
   "version": "3.11.11"
  }
 },
 "nbformat": 4,
 "nbformat_minor": 5
}

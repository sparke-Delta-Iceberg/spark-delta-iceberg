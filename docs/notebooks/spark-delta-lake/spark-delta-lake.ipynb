{
 "cells": [
  {
   "cell_type": "code",
   "execution_count": 1,
   "metadata": {
    "editable": true,
    "id": "EHdeeUNGSRUb",
    "slideshow": {
     "slide_type": ""
    },
    "tags": []
   },
   "outputs": [],
   "source": [
    "from pyspark.sql import SparkSession\n",
    "from pyspark.sql.types import StructType, StructField, StringType, FloatType\n",
    "\n",
    "from delta import *\n",
    "\n",
    "import logging\n",
    "\n",
    "logging.getLogger(\"py4j\").setLevel(logging.DEBUG)\n"
   ]
  },
  {
   "cell_type": "code",
   "execution_count": 2,
   "metadata": {
    "id": "o6a6T_sRSnKX"
   },
   "outputs": [
    {
     "name": "stderr",
     "output_type": "stream",
     "text": [
      "your 131072x1 screen size is bogus. expect trouble\n",
      "25/10/02 10:11:57 WARN Utils: Your hostname, DESKTOP-6N51FSC resolves to a loopback address: 127.0.1.1; using 172.19.217.37 instead (on interface eth0)\n",
      "25/10/02 10:11:57 WARN Utils: Set SPARK_LOCAL_IP if you need to bind to another address\n"
     ]
    },
    {
     "name": "stdout",
     "output_type": "stream",
     "text": [
      ":: loading settings :: url = jar:file:/home/arthur/projects/sparke-delta-iceberg/spark-delta-iceberg/.venv/lib/python3.11/site-packages/pyspark/jars/ivy-2.5.1.jar!/org/apache/ivy/core/settings/ivysettings.xml\n"
     ]
    },
    {
     "name": "stderr",
     "output_type": "stream",
     "text": [
      "Ivy Default Cache set to: /home/arthur/.ivy2/cache\n",
      "The jars for the packages stored in: /home/arthur/.ivy2/jars\n",
      "io.delta#delta-spark_2.12 added as a dependency\n",
      ":: resolving dependencies :: org.apache.spark#spark-submit-parent-beddcf6b-db5f-47f1-8dba-3570a04bb671;1.0\n",
      "\tconfs: [default]\n",
      "\tfound io.delta#delta-spark_2.12;3.2.0 in central\n",
      "\tfound io.delta#delta-storage;3.2.0 in central\n",
      "\tfound org.antlr#antlr4-runtime;4.9.3 in central\n",
      "downloading https://repo1.maven.org/maven2/io/delta/delta-spark_2.12/3.2.0/delta-spark_2.12-3.2.0.jar ...\n",
      "\t[SUCCESSFUL ] io.delta#delta-spark_2.12;3.2.0!delta-spark_2.12.jar (571ms)\n",
      "downloading https://repo1.maven.org/maven2/io/delta/delta-storage/3.2.0/delta-storage-3.2.0.jar ...\n",
      "\t[SUCCESSFUL ] io.delta#delta-storage;3.2.0!delta-storage.jar (106ms)\n",
      "downloading https://repo1.maven.org/maven2/org/antlr/antlr4-runtime/4.9.3/antlr4-runtime-4.9.3.jar ...\n",
      "\t[SUCCESSFUL ] org.antlr#antlr4-runtime;4.9.3!antlr4-runtime.jar (132ms)\n",
      ":: resolution report :: resolve 2910ms :: artifacts dl 820ms\n",
      "\t:: modules in use:\n",
      "\tio.delta#delta-spark_2.12;3.2.0 from central in [default]\n",
      "\tio.delta#delta-storage;3.2.0 from central in [default]\n",
      "\torg.antlr#antlr4-runtime;4.9.3 from central in [default]\n",
      "\t---------------------------------------------------------------------\n",
      "\t|                  |            modules            ||   artifacts   |\n",
      "\t|       conf       | number| search|dwnlded|evicted|| number|dwnlded|\n",
      "\t---------------------------------------------------------------------\n",
      "\t|      default     |   3   |   3   |   3   |   0   ||   3   |   3   |\n",
      "\t---------------------------------------------------------------------\n",
      ":: retrieving :: org.apache.spark#spark-submit-parent-beddcf6b-db5f-47f1-8dba-3570a04bb671\n",
      "\tconfs: [default]\n",
      "\t3 artifacts copied, 0 already retrieved (6321kB/97ms)\n",
      "25/10/02 10:12:03 WARN NativeCodeLoader: Unable to load native-hadoop library for your platform... using builtin-java classes where applicable\n",
      "Setting default log level to \"WARN\".\n",
      "To adjust logging level use sc.setLogLevel(newLevel). For SparkR, use setLogLevel(newLevel).\n",
      "25/10/02 10:12:05 WARN Utils: Service 'SparkUI' could not bind on port 4040. Attempting port 4041.\n"
     ]
    }
   ],
   "source": [
    "# Create SparkSession\n",
    "spark = (\n",
    "    SparkSession\n",
    "    .builder\n",
    "    .master(\"local[*]\")\n",
    "    .config(\"spark.jars.packages\", \"io.delta:delta-spark_2.12:3.2.0\")\n",
    "    .config(\"spark.sql.extensions\", \"io.delta.sql.DeltaSparkSessionExtension\")\n",
    "    .config(\"spark.sql.catalog.spark_catalog\", \"org.apache.spark.sql.delta.catalog.DeltaCatalog\")\n",
    "    .getOrCreate()\n",
    ")"
   ]
  },
  {
   "cell_type": "code",
   "execution_count": 3,
   "metadata": {
    "colab": {
     "base_uri": "https://localhost:8080/",
     "height": 219
    },
    "id": "dLVRL7feT-cX",
    "outputId": "f9dc706f-a3a5-4f6b-8073-79fbc053a5fc"
   },
   "outputs": [
    {
     "data": {
      "text/html": [
       "\n",
       "            <div>\n",
       "                <p><b>SparkSession - in-memory</b></p>\n",
       "                \n",
       "        <div>\n",
       "            <p><b>SparkContext</b></p>\n",
       "\n",
       "            <p><a href=\"http://172.19.217.37:4041\">Spark UI</a></p>\n",
       "\n",
       "            <dl>\n",
       "              <dt>Version</dt>\n",
       "                <dd><code>v3.5.3</code></dd>\n",
       "              <dt>Master</dt>\n",
       "                <dd><code>local[*]</code></dd>\n",
       "              <dt>AppName</dt>\n",
       "                <dd><code>pyspark-shell</code></dd>\n",
       "            </dl>\n",
       "        </div>\n",
       "        \n",
       "            </div>\n",
       "        "
      ],
      "text/plain": [
       "<pyspark.sql.session.SparkSession at 0x7bd5a8243090>"
      ]
     },
     "execution_count": 3,
     "metadata": {},
     "output_type": "execute_result"
    }
   ],
   "source": [
    "spark"
   ]
  },
  {
   "cell_type": "code",
   "execution_count": 4,
   "metadata": {
    "colab": {
     "base_uri": "https://localhost:8080/"
    },
    "id": "l4mjoy7AUAfW",
    "outputId": "283707f5-ecc4-4bb6-fed8-ae7ea1e0b060"
   },
   "outputs": [
    {
     "data": {
      "text/plain": [
       "DataFrame[]"
      ]
     },
     "execution_count": 4,
     "metadata": {},
     "output_type": "execute_result"
    }
   ],
   "source": [
    "spark.sql(\n",
    "  \"\"\"\n",
    "  CREATE TABLE carro_delta (id INT, placa STRING) USING delta\n",
    "  \"\"\"\n",
    ")"
   ]
  },
  {
   "cell_type": "code",
   "execution_count": 5,
   "metadata": {
    "colab": {
     "base_uri": "https://localhost:8080/"
    },
    "id": "ddrmZAIXUMcD",
    "outputId": "41d4d93e-c075-48cf-9149-e6e66ff22fc4"
   },
   "outputs": [
    {
     "name": "stderr",
     "output_type": "stream",
     "text": [
      "25/10/02 10:12:22 WARN SparkStringUtils: Truncated the string representation of a plan since it was too large. This behavior can be adjusted by setting 'spark.sql.debug.maxToStringFields'.\n",
      "                                                                                \r"
     ]
    },
    {
     "name": "stdout",
     "output_type": "stream",
     "text": [
      "+---+-----+\n",
      "| id|placa|\n",
      "+---+-----+\n",
      "+---+-----+\n",
      "\n"
     ]
    }
   ],
   "source": [
    "spark.sql(\"select * from carro_delta\").show()"
   ]
  },
  {
   "cell_type": "code",
   "execution_count": 8,
   "metadata": {
    "id": "hiL_WnXWUZyF"
   },
   "outputs": [],
   "source": [
    "from delta.tables import DeltaTable\n",
    "\n",
    "carro = DeltaTable.forPath(spark, \"./spark-warehouse/carro_delta\")"
   ]
  },
  {
   "cell_type": "code",
   "execution_count": null,
   "metadata": {
    "colab": {
     "base_uri": "https://localhost:8080/"
    },
    "id": "f_xTprevUeWz",
    "outputId": "51afaff6-8fe8-4bfe-92ae-c2f9193f49dc"
   },
   "outputs": [
    {
     "name": "stdout",
     "output_type": "stream",
     "text": [
      "+-------+--------------------+------+--------+------------+--------------------+----+--------+---------+-----------+--------------+-------------+----------------+------------+--------------------+\n",
      "|version|           timestamp|userId|userName|   operation| operationParameters| job|notebook|clusterId|readVersion|isolationLevel|isBlindAppend|operationMetrics|userMetadata|          engineInfo|\n",
      "+-------+--------------------+------+--------+------------+--------------------+----+--------+---------+-----------+--------------+-------------+----------------+------------+--------------------+\n",
      "|      0|2025-04-22 15:37:...|  NULL|    NULL|CREATE TABLE|{partitionBy -> [...|NULL|    NULL|     NULL|       NULL|  Serializable|         true|              {}|        NULL|Apache-Spark/3.5....|\n",
      "+-------+--------------------+------+--------+------------+--------------------+----+--------+---------+-----------+--------------+-------------+----------------+------------+--------------------+\n",
      "\n"
     ]
    }
   ],
   "source": [
    "carro.history().show()"
   ]
  },
  {
   "cell_type": "code",
   "execution_count": 9,
   "metadata": {
    "colab": {
     "base_uri": "https://localhost:8080/"
    },
    "id": "TA3R73sKUimk",
    "outputId": "4960de2c-f093-49d5-bdf5-32854980d412"
   },
   "outputs": [
    {
     "name": "stderr",
     "output_type": "stream",
     "text": [
      "                                                                                \r"
     ]
    },
    {
     "data": {
      "text/plain": [
       "DataFrame[]"
      ]
     },
     "execution_count": 9,
     "metadata": {},
     "output_type": "execute_result"
    }
   ],
   "source": [
    "spark.sql(\"INSERT INTO carro_delta VALUES (1, 'XYZ1J34'), (2, 'RLC5B93'), (3, 'ABV1V23')\")"
   ]
  },
  {
   "cell_type": "code",
   "execution_count": 10,
   "metadata": {
    "colab": {
     "base_uri": "https://localhost:8080/"
    },
    "id": "y1MdUrduUnWG",
    "outputId": "ea2f9a92-fe5e-4570-c7b0-b0b572d1b05c"
   },
   "outputs": [
    {
     "name": "stderr",
     "output_type": "stream",
     "text": [
      "                                                                                \r"
     ]
    },
    {
     "name": "stdout",
     "output_type": "stream",
     "text": [
      "+---+-------+\n",
      "| id|  placa|\n",
      "+---+-------+\n",
      "|  3|ABV1V23|\n",
      "|  2|RLC5B93|\n",
      "|  1|XYZ1J34|\n",
      "+---+-------+\n",
      "\n"
     ]
    }
   ],
   "source": [
    "spark.sql(\"select * from carro_delta\").show()"
   ]
  },
  {
   "cell_type": "code",
   "execution_count": 11,
   "metadata": {
    "colab": {
     "base_uri": "https://localhost:8080/"
    },
    "id": "Tt6xjvytUrvV",
    "outputId": "ef45f1b0-0b67-4cf9-92f3-a2972f59110c"
   },
   "outputs": [
    {
     "name": "stdout",
     "output_type": "stream",
     "text": [
      "+-------+-----------------------+------+--------+------------+----------------------------------------------------------------------------------------------+----+--------+---------+-----------+--------------+-------------+-----------------------------------------------------------+------------+-----------------------------------+\n",
      "|version|timestamp              |userId|userName|operation   |operationParameters                                                                           |job |notebook|clusterId|readVersion|isolationLevel|isBlindAppend|operationMetrics                                           |userMetadata|engineInfo                         |\n",
      "+-------+-----------------------+------+--------+------------+----------------------------------------------------------------------------------------------+----+--------+---------+-----------+--------------+-------------+-----------------------------------------------------------+------------+-----------------------------------+\n",
      "|1      |2025-10-02 10:15:02.04 |NULL  |NULL    |WRITE       |{mode -> Append, partitionBy -> []}                                                           |NULL|NULL    |NULL     |0          |Serializable  |true         |{numFiles -> 3, numOutputRows -> 3, numOutputBytes -> 2133}|NULL        |Apache-Spark/3.5.3 Delta-Lake/3.2.0|\n",
      "|0      |2025-10-02 10:12:15.641|NULL  |NULL    |CREATE TABLE|{partitionBy -> [], clusterBy -> [], description -> NULL, isManaged -> true, properties -> {}}|NULL|NULL    |NULL     |NULL       |Serializable  |true         |{}                                                         |NULL        |Apache-Spark/3.5.3 Delta-Lake/3.2.0|\n",
      "+-------+-----------------------+------+--------+------------+----------------------------------------------------------------------------------------------+----+--------+---------+-----------+--------------+-------------+-----------------------------------------------------------+------------+-----------------------------------+\n",
      "\n"
     ]
    }
   ],
   "source": [
    "carro.history().show(truncate=False)"
   ]
  },
  {
   "cell_type": "code",
   "execution_count": 12,
   "metadata": {
    "colab": {
     "base_uri": "https://localhost:8080/"
    },
    "id": "vHqyDqhFUvLg",
    "outputId": "1c084cab-3eb1-4df4-bbcc-c2703621c2c2"
   },
   "outputs": [
    {
     "data": {
      "text/plain": [
       "DataFrame[]"
      ]
     },
     "execution_count": 12,
     "metadata": {},
     "output_type": "execute_result"
    }
   ],
   "source": [
    "spark.sql(\n",
    "    \"\"\"\n",
    "    alter table carro_delta add column marca STRING, modelo STRING, ano INT\n",
    "    \"\"\"\n",
    ")"
   ]
  },
  {
   "cell_type": "code",
   "execution_count": 13,
   "metadata": {
    "colab": {
     "base_uri": "https://localhost:8080/"
    },
    "id": "Bxgsegi_U5lZ",
    "outputId": "14551402-1c62-4495-a856-0dbd10977cd9"
   },
   "outputs": [
    {
     "name": "stderr",
     "output_type": "stream",
     "text": [
      "                                                                                \r"
     ]
    },
    {
     "name": "stdout",
     "output_type": "stream",
     "text": [
      "+---+-------+-----+------+----+\n",
      "| id|  placa|marca|modelo| ano|\n",
      "+---+-------+-----+------+----+\n",
      "|  3|ABV1V23| NULL|  NULL|NULL|\n",
      "|  2|RLC5B93| NULL|  NULL|NULL|\n",
      "|  1|XYZ1J34| NULL|  NULL|NULL|\n",
      "+---+-------+-----+------+----+\n",
      "\n"
     ]
    }
   ],
   "source": [
    "spark.sql(\n",
    "    \"\"\"\n",
    "    select * from carro_delta\n",
    "    \"\"\"\n",
    ").show()"
   ]
  },
  {
   "cell_type": "code",
   "execution_count": 14,
   "metadata": {
    "colab": {
     "base_uri": "https://localhost:8080/"
    },
    "id": "stJnH3v0U8Ul",
    "outputId": "389e5cbb-b56e-4176-ada7-2bc87f6fc9b6"
   },
   "outputs": [
    {
     "data": {
      "text/plain": [
       "DataFrame[num_affected_rows: bigint]"
      ]
     },
     "execution_count": 14,
     "metadata": {},
     "output_type": "execute_result"
    }
   ],
   "source": [
    "spark.sql(\n",
    "    \"\"\"\n",
    "    update carro_delta set marca = 'Renault', modelo = 'Sandero', ano = 2021 where id = 1\n",
    "    \"\"\"\n",
    ")"
   ]
  },
  {
   "cell_type": "code",
   "execution_count": 15,
   "metadata": {
    "colab": {
     "base_uri": "https://localhost:8080/"
    },
    "id": "N_u_J2QaU-iQ",
    "outputId": "4020ca95-8dd5-4582-a240-3f4fd10af561"
   },
   "outputs": [
    {
     "name": "stderr",
     "output_type": "stream",
     "text": [
      "                                                                                \r"
     ]
    },
    {
     "name": "stdout",
     "output_type": "stream",
     "text": [
      "+---+-------+-------+-------+----+\n",
      "| id|  placa|  marca| modelo| ano|\n",
      "+---+-------+-------+-------+----+\n",
      "|  1|XYZ1J34|Renault|Sandero|2021|\n",
      "|  3|ABV1V23|   NULL|   NULL|NULL|\n",
      "|  2|RLC5B93|   NULL|   NULL|NULL|\n",
      "+---+-------+-------+-------+----+\n",
      "\n"
     ]
    }
   ],
   "source": [
    "spark.sql(\n",
    "    \"\"\"\n",
    "    select * from carro_delta\n",
    "    \"\"\"\n",
    ").show()"
   ]
  },
  {
   "cell_type": "code",
   "execution_count": 16,
   "metadata": {
    "colab": {
     "base_uri": "https://localhost:8080/"
    },
    "id": "yi5cTMVTVCh0",
    "outputId": "6afd625f-b30d-41fe-b7ca-3f7e583d2e62"
   },
   "outputs": [
    {
     "data": {
      "text/plain": [
       "True"
      ]
     },
     "execution_count": 16,
     "metadata": {},
     "output_type": "execute_result"
    }
   ],
   "source": [
    "DeltaTable.isDeltaTable(spark, \"spark-warehouse/carro_delta\")"
   ]
  },
  {
   "cell_type": "code",
   "execution_count": 17,
   "metadata": {},
   "outputs": [
    {
     "name": "stdout",
     "output_type": "stream",
     "text": [
      "+---+-------+-------+-------+----+\n",
      "| id|  placa|  marca| modelo| ano|\n",
      "+---+-------+-------+-------+----+\n",
      "|  1|XYZ1J34|Renault|Sandero|2021|\n",
      "|  3|ABV1V23|   NULL|   NULL|NULL|\n",
      "|  2|RLC5B93|   NULL|   NULL|NULL|\n",
      "+---+-------+-------+-------+----+\n",
      "\n"
     ]
    }
   ],
   "source": [
    "spark.sql('select * from carro_delta').show()"
   ]
  },
  {
   "cell_type": "code",
   "execution_count": 18,
   "metadata": {},
   "outputs": [
    {
     "data": {
      "text/plain": [
       "DataFrame[num_affected_rows: bigint]"
      ]
     },
     "execution_count": 18,
     "metadata": {},
     "output_type": "execute_result"
    }
   ],
   "source": [
    "spark.sql('update carro_delta set marca=\"GM\", modelo=\"tracker\", ano=2020 where id = 2    ')"
   ]
  },
  {
   "cell_type": "code",
   "execution_count": 19,
   "metadata": {},
   "outputs": [
    {
     "name": "stderr",
     "output_type": "stream",
     "text": [
      "                                                                                \r"
     ]
    },
    {
     "data": {
      "text/plain": [
       "DataFrame[num_affected_rows: bigint]"
      ]
     },
     "execution_count": 19,
     "metadata": {},
     "output_type": "execute_result"
    }
   ],
   "source": [
    "spark.sql('update carro_delta set marca=\"Ford\", modelo=\"EcoSport\", ano=2022 where id = 3    ')"
   ]
  },
  {
   "cell_type": "code",
   "execution_count": 20,
   "metadata": {},
   "outputs": [
    {
     "name": "stderr",
     "output_type": "stream",
     "text": [
      "                                                                                \r"
     ]
    },
    {
     "name": "stdout",
     "output_type": "stream",
     "text": [
      "+---+-------+-------+--------+----+\n",
      "| id|  placa|  marca|  modelo| ano|\n",
      "+---+-------+-------+--------+----+\n",
      "|  1|XYZ1J34|Renault| Sandero|2021|\n",
      "|  3|ABV1V23|   Ford|EcoSport|2022|\n",
      "|  2|RLC5B93|     GM| tracker|2020|\n",
      "+---+-------+-------+--------+----+\n",
      "\n"
     ]
    }
   ],
   "source": [
    "spark.sql('select * from carro_delta').show()"
   ]
  },
  {
   "cell_type": "code",
   "execution_count": 21,
   "metadata": {},
   "outputs": [
    {
     "data": {
      "text/html": [
       "<style>pre { white-space: pre !important; }</style>"
      ],
      "text/plain": [
       "<IPython.core.display.HTML object>"
      ]
     },
     "metadata": {},
     "output_type": "display_data"
    }
   ],
   "source": [
    "from IPython.display import display, HTML\n",
    "display(HTML(\"<style>pre { white-space: pre !important; }</style>\"))"
   ]
  },
  {
   "cell_type": "code",
   "execution_count": 22,
   "metadata": {},
   "outputs": [
    {
     "name": "stdout",
     "output_type": "stream",
     "text": [
      "+-------+-----------------------+------+--------+------------+--------------------------------------------------------------------------------------------------------------------------------------------------------------------------------------------------------------------------------------------+----+--------+---------+-----------+--------------+-------------+-----------------------------------------------------------------------------------------------------------------------------------------------------------------------------------------------------------------------------------------------------------------------------------------------------------------------------+------------+-----------------------------------+\n",
      "|version|timestamp              |userId|userName|operation   |operationParameters                                                                                                                                                                                                                         |job |notebook|clusterId|readVersion|isolationLevel|isBlindAppend|operationMetrics                                                                                                                                                                                                                                                                                                             |userMetadata|engineInfo                         |\n",
      "+-------+-----------------------+------+--------+------------+--------------------------------------------------------------------------------------------------------------------------------------------------------------------------------------------------------------------------------------------+----+--------+---------+-----------+--------------+-------------+-----------------------------------------------------------------------------------------------------------------------------------------------------------------------------------------------------------------------------------------------------------------------------------------------------------------------------+------------+-----------------------------------+\n",
      "|5      |2025-10-02 10:15:40.781|NULL  |NULL    |UPDATE      |{predicate -> [\"(id#4855 = 3)\"]}                                                                                                                                                                                                            |NULL|NULL    |NULL     |4          |Serializable  |false        |{numRemovedFiles -> 1, numRemovedBytes -> 711, numCopiedRows -> 0, numDeletionVectorsAdded -> 0, numDeletionVectorsRemoved -> 0, numAddedChangeFiles -> 0, executionTimeMs -> 2595, numDeletionVectorsUpdated -> 0, scanTimeMs -> 2407, numAddedFiles -> 1, numUpdatedRows -> 1, numAddedBytes -> 1435, rewriteTimeMs -> 187}|NULL        |Apache-Spark/3.5.3 Delta-Lake/3.2.0|\n",
      "|4      |2025-10-02 10:15:36.643|NULL  |NULL    |UPDATE      |{predicate -> [\"(id#4473 = 2)\"]}                                                                                                                                                                                                            |NULL|NULL    |NULL     |3          |Serializable  |false        |{numRemovedFiles -> 1, numRemovedBytes -> 711, numCopiedRows -> 0, numDeletionVectorsAdded -> 0, numDeletionVectorsRemoved -> 0, numAddedChangeFiles -> 0, executionTimeMs -> 1202, numDeletionVectorsUpdated -> 0, scanTimeMs -> 895, numAddedFiles -> 1, numUpdatedRows -> 1, numAddedBytes -> 1414, rewriteTimeMs -> 306} |NULL        |Apache-Spark/3.5.3 Delta-Lake/3.2.0|\n",
      "|3      |2025-10-02 10:15:26.351|NULL  |NULL    |UPDATE      |{predicate -> [\"(id#3078 = 1)\"]}                                                                                                                                                                                                            |NULL|NULL    |NULL     |2          |Serializable  |false        |{numRemovedFiles -> 1, numRemovedBytes -> 711, numCopiedRows -> 0, numDeletionVectorsAdded -> 0, numDeletionVectorsRemoved -> 0, numAddedChangeFiles -> 0, executionTimeMs -> 1785, numDeletionVectorsUpdated -> 0, scanTimeMs -> 1425, numAddedFiles -> 1, numUpdatedRows -> 1, numAddedBytes -> 1447, rewriteTimeMs -> 358}|NULL        |Apache-Spark/3.5.3 Delta-Lake/3.2.0|\n",
      "|2      |2025-10-02 10:15:17.434|NULL  |NULL    |ADD COLUMNS |{columns -> [{\"column\":{\"name\":\"marca\",\"type\":\"string\",\"nullable\":true,\"metadata\":{}}},{\"column\":{\"name\":\"modelo\",\"type\":\"string\",\"nullable\":true,\"metadata\":{}}},{\"column\":{\"name\":\"ano\",\"type\":\"integer\",\"nullable\":true,\"metadata\":{}}}]}|NULL|NULL    |NULL     |1          |Serializable  |true         |{}                                                                                                                                                                                                                                                                                                                           |NULL        |Apache-Spark/3.5.3 Delta-Lake/3.2.0|\n",
      "|1      |2025-10-02 10:15:02.04 |NULL  |NULL    |WRITE       |{mode -> Append, partitionBy -> []}                                                                                                                                                                                                         |NULL|NULL    |NULL     |0          |Serializable  |true         |{numFiles -> 3, numOutputRows -> 3, numOutputBytes -> 2133}                                                                                                                                                                                                                                                                  |NULL        |Apache-Spark/3.5.3 Delta-Lake/3.2.0|\n",
      "|0      |2025-10-02 10:12:15.641|NULL  |NULL    |CREATE TABLE|{partitionBy -> [], clusterBy -> [], description -> NULL, isManaged -> true, properties -> {}}                                                                                                                                              |NULL|NULL    |NULL     |NULL       |Serializable  |true         |{}                                                                                                                                                                                                                                                                                                                           |NULL        |Apache-Spark/3.5.3 Delta-Lake/3.2.0|\n",
      "+-------+-----------------------+------+--------+------------+--------------------------------------------------------------------------------------------------------------------------------------------------------------------------------------------------------------------------------------------+----+--------+---------+-----------+--------------+-------------+-----------------------------------------------------------------------------------------------------------------------------------------------------------------------------------------------------------------------------------------------------------------------------------------------------------------------------+------------+-----------------------------------+\n",
      "\n"
     ]
    }
   ],
   "source": [
    "spark.sql('describe HISTORY carro_delta').show(truncate=False);"
   ]
  },
  {
   "cell_type": "code",
   "execution_count": 23,
   "metadata": {},
   "outputs": [
    {
     "name": "stdout",
     "output_type": "stream",
     "text": [
      "Executando DELETE para remover o registro com id = 3...\n",
      "DELETE executado com sucesso.\n"
     ]
    }
   ],
   "source": [
    "print(\"Executando DELETE para remover o registro com id = 3...\")\n",
    "spark.sql('DELETE FROM carro_delta WHERE id = 3')\n",
    "print(\"DELETE executado com sucesso.\")"
   ]
  },
  {
   "cell_type": "code",
   "execution_count": 24,
   "metadata": {},
   "outputs": [
    {
     "name": "stdout",
     "output_type": "stream",
     "text": [
      "Verificando os dados na tabela após o DELETE:\n"
     ]
    },
    {
     "name": "stderr",
     "output_type": "stream",
     "text": [
      "                                                                                \r"
     ]
    },
    {
     "name": "stdout",
     "output_type": "stream",
     "text": [
      "+---+-------+-------+-------+----+\n",
      "| id|  placa|  marca| modelo| ano|\n",
      "+---+-------+-------+-------+----+\n",
      "|  1|XYZ1J34|Renault|Sandero|2021|\n",
      "|  2|RLC5B93|     GM|tracker|2020|\n",
      "+---+-------+-------+-------+----+\n",
      "\n"
     ]
    }
   ],
   "source": [
    "print(\"Verificando os dados na tabela após o DELETE:\")\n",
    "spark.sql('SELECT * FROM carro_delta').show()"
   ]
  }
 ],
 "metadata": {
  "colab": {
   "provenance": []
  },
  "kernelspec": {
   "display_name": "spark-delta-iceberg",
   "language": "python",
   "name": "python3"
  },
  "language_info": {
   "codemirror_mode": {
    "name": "ipython",
    "version": 3
   },
   "file_extension": ".py",
   "mimetype": "text/x-python",
   "name": "python",
   "nbconvert_exporter": "python",
   "pygments_lexer": "ipython3",
   "version": "3.11.11"
  }
 },
 "nbformat": 4,
 "nbformat_minor": 4
}
